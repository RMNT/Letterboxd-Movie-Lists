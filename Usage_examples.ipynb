{
 "cells": [
  {
   "cell_type": "markdown",
   "metadata": {},
   "source": [
    "## Initial set up"
   ]
  },
  {
   "cell_type": "markdown",
   "metadata": {},
   "source": [
    "After creating a new notebook in Google Colab you will need to clone this repo:"
   ]
  },
  {
   "cell_type": "code",
   "execution_count": null,
   "metadata": {},
   "outputs": [],
   "source": [
    "!git clone https://github.com/RMNT/lb_lists.git"
   ]
  },
  {
   "cell_type": "markdown",
   "metadata": {},
   "source": [
    "and install the requirements.txt:"
   ]
  },
  {
   "cell_type": "code",
   "execution_count": null,
   "metadata": {},
   "outputs": [],
   "source": [
    "%pip install -r lb_lists/requirements.txt"
   ]
  },
  {
   "cell_type": "markdown",
   "metadata": {},
   "source": [
    "## Usage cases"
   ]
  },
  {
   "cell_type": "markdown",
   "metadata": {},
   "source": [
    "Then you can start using functions present in the repo. For this you will need to import needed functions, for example:"
   ]
  },
  {
   "cell_type": "code",
   "execution_count": null,
   "metadata": {},
   "outputs": [],
   "source": [
    "from lb_lists.lb_lists.list_comparison import conn_to_drive, get_watched, compare_lists"
   ]
  },
  {
   "cell_type": "markdown",
   "metadata": {},
   "source": [
    "You will need to have a folder to save files containing movie lists. Please create it in the primary directory of Google Drive.\n",
    "\n",
    "To access it in the colab project you have to connect to Google Drive. The code line below will open a window asking to connect. Click 'yes' and its equivelance in all windows."
   ]
  },
  {
   "cell_type": "code",
   "execution_count": null,
   "metadata": {},
   "outputs": [],
   "source": [
    "conn_to_drive()"
   ]
  },
  {
   "cell_type": "markdown",
   "metadata": {},
   "source": [
    "Congrats! You are all set up to use scrappning and their comparing functions present in the repo.\n",
    "\n",
    "There are three main functions for scrapping lists: `get_watched()` used to get watched film list of a user, `get_watchlist()` for watchlisted film list of a user and `get_movie_list()` for general movie lists."
   ]
  },
  {
   "cell_type": "markdown",
   "metadata": {},
   "source": [
    "### Explanations:"
   ]
  },
  {
   "cell_type": "markdown",
   "metadata": {},
   "source": [
    "The `get_watched()` function requires two parameters: `user` (the Letterboxd username) and `folder` (the folder where lists will be stored). Additionally, it accepts two optional parameters: `title`, which allows you to specify a custom name for the list file (default is 'Watched'), and `print_links`, which determines whether to print the link for each movie read (default is `False`).\n",
    "\n",
    "When executed with print_links=False, the function outputs the progress in the format 'page i/x', where x is the total number of pages for the user and i is the current page being scraped, continuing until i = x. Upon successful execution, the function generates a file named 'Watched | [username].txt'."
   ]
  },
  {
   "cell_type": "markdown",
   "metadata": {},
   "source": [
    "The `get_watchlist()` function requires the same parameters and offers the same optional parameters as `get_watched()`. The only distinction between the two is that `get_watchlist()` retrieves the user's watchlist instead of their watched list."
   ]
  },
  {
   "cell_type": "markdown",
   "metadata": {},
   "source": [
    "#### Getting repo updates"
   ]
  },
  {
   "cell_type": "markdown",
   "metadata": {},
   "source": [
    "In case there is an update on the repo, delete the existing repo with `%rm -r lb_lists`. Then click `Runtime -> Disconnect and delete runtime` and run `!git clone https://github.com/RMNT/lb_lists.git` and `%pip install -r lb_lists/requirements.txt` again. The scrapped lists are left intact. "
   ]
  }
 ],
 "metadata": {
  "kernelspec": {
   "display_name": "base",
   "language": "python",
   "name": "python3"
  },
  "language_info": {
   "codemirror_mode": {
    "name": "ipython",
    "version": 3
   },
   "file_extension": ".py",
   "mimetype": "text/x-python",
   "name": "python",
   "nbconvert_exporter": "python",
   "pygments_lexer": "ipython3",
   "version": "3.12.7"
  }
 },
 "nbformat": 4,
 "nbformat_minor": 2
}
